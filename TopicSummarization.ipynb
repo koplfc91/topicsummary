{
 "cells": [
  {
   "cell_type": "code",
   "execution_count": 36,
   "metadata": {},
   "outputs": [],
   "source": [
    "from bs4 import BeautifulSoup\n",
    "import urllib\n",
    "import pandas as pd\n",
    "import numpy\n",
    "import os\n",
    "import sys\n",
    "import matplotlib.pyplot as plt"
   ]
  },
  {
   "cell_type": "code",
   "execution_count": 2,
   "metadata": {},
   "outputs": [],
   "source": [
    "web_page_url = \"https://www.forbes.com/sites/insideasia/2017/12/10/why-blockchain-is-real-and-bitcoin-is-a-mirage/#22b198984215\""
   ]
  },
  {
   "cell_type": "code",
   "execution_count": 3,
   "metadata": {},
   "outputs": [],
   "source": [
    "page = urllib.request.urlopen(web_page_url)"
   ]
  },
  {
   "cell_type": "code",
   "execution_count": 4,
   "metadata": {},
   "outputs": [
    {
     "data": {
      "text/plain": [
       "<http.client.HTTPResponse at 0x1986fab4be0>"
      ]
     },
     "execution_count": 4,
     "metadata": {},
     "output_type": "execute_result"
    }
   ],
   "source": [
    "page"
   ]
  },
  {
   "cell_type": "code",
   "execution_count": 5,
   "metadata": {},
   "outputs": [],
   "source": [
    "soup = BeautifulSoup(page)\n",
    "#print(soup.prettify())"
   ]
  },
  {
   "cell_type": "code",
   "execution_count": 6,
   "metadata": {},
   "outputs": [],
   "source": [
    "paras = soup.find_all('p')"
   ]
  },
  {
   "cell_type": "code",
   "execution_count": 10,
   "metadata": {},
   "outputs": [
    {
     "data": {
      "text/plain": [
       "bs4.element.ResultSet"
      ]
     },
     "execution_count": 10,
     "metadata": {},
     "output_type": "execute_result"
    }
   ],
   "source": [
    "type(paras)"
   ]
  },
  {
   "cell_type": "code",
   "execution_count": 19,
   "metadata": {},
   "outputs": [
    {
     "data": {
      "text/plain": [
       "31"
      ]
     },
     "execution_count": 19,
     "metadata": {},
     "output_type": "execute_result"
    }
   ],
   "source": [
    "len(paras)"
   ]
  },
  {
   "cell_type": "code",
   "execution_count": 23,
   "metadata": {
    "collapsed": true,
    "jupyter": {
     "outputs_hidden": true
    }
   },
   "outputs": [
    {
     "name": "stdout",
     "output_type": "stream",
     "text": [
      "<class 'bs4.element.Tag'>\n",
      "p\n",
      "{'_ngcontent-c18': '', 'class': ['intro', 'fs-text-xxs']}\n",
      "Guest post written by\n",
      "<class 'bs4.element.Tag'>\n",
      "p\n",
      "{'_ngcontent-c18': '', 'class': ['name', 'fs-text-m']}\n",
      "James Cheo\n",
      "<class 'bs4.element.Tag'>\n",
      "p\n",
      "{'_ngcontent-c18': '', 'class': ['bio', 'fs-text-xs', 'fs-responsive-text'], 'innerhtml': 'James Cheo is an Investment Strategist at Bank of Singapore.'}\n",
      "James Cheo is an Investment Strategist at Bank of Singapore.\n",
      "<class 'bs4.element.Tag'>\n",
      "p\n",
      "{'class': ['speakable-paragraph']}\n",
      "In less than a decade, bitcoin has gone from being an obscure curiosity to a household name. Its value has risen -- with ups and downs -- from almost nothing to $16,000 at the time of writing.\n",
      "<class 'bs4.element.Tag'>\n",
      "p\n",
      "{}\n",
      "Bitcoin’s rise is spectacular. Its price is up almost thirtyfold in the past two years. Currently, the value of Bitcoin in circulation is more than US$170 billion, greater than the market capitalization of McDonald’s. This is remarkable because unlike McDonald’s, which has stores in almost every corner of the world, Bitcoin as a virtual currency is hardly even transacted in the real world.\n",
      "<class 'bs4.element.Tag'>\n",
      "p\n",
      "{}\n",
      "Bitcoin is a mirage\n",
      "<class 'bs4.element.Tag'>\n",
      "p\n",
      "{}\n",
      "The rise in Bitcoin’s value reflects speculation about its future value: This digital currency will have long-term value as long as it is accepted as a medium of exchange and a store of value.\n",
      "<class 'bs4.element.Tag'>\n",
      "p\n",
      "{}\n",
      "None\n",
      "<class 'bs4.element.Tag'>\n",
      "p\n",
      "{}\n",
      "\n",
      "\n",
      "<class 'bs4.element.Tag'>\n",
      "p\n",
      "{}\n",
      "By design, there are inherent weaknesses that prevent Bitcoin from becoming real money.\n",
      "<class 'bs4.element.Tag'>\n",
      "p\n",
      "{}\n",
      "For it to be real money, Bitcoin must be a viable and stable store of value. It is a poor store of value because of its extreme volatility. Bitcoin’s price is characterized by wild swings, both up and down, with the potential to move more than 20% in a single day. This volatility is almost by construction because Bitcoin’s supply is relatively fixed but demand can change dramatically.\n",
      "<class 'bs4.element.Tag'>\n",
      "p\n",
      "{}\n",
      "None\n",
      "<class 'bs4.element.Tag'>\n",
      "p\n",
      "{}\n",
      "While the supply of individual cryptocurrencies may be limited, the supply of cryptocurrencies in aggregate is unlimited. They have low barriers to entry. Anyone can create a new cryptocurrency. For example, a digital cryptocurrency, Potcoin, was created to facilitate transactions within the cannabis industry.\n",
      "<class 'bs4.element.Tag'>\n",
      "p\n",
      "{'class': ['wp-caption-text']}\n",
      "Bitcoin valuation has rocketed in 2017. (Alain Pitton/NurPhoto via Getty Images)\n",
      "<class 'bs4.element.Tag'>\n",
      "p\n",
      "{}\n",
      "Bitcoin’s utility as a medium of exchange is still very limited.  While there might be more usage of cryptocurrencies in the future, it is inconceivable for governments to allow the widespread adoption of them.  Governments will want to keep government-backed currencies as they do not want to give up their ability to control policy levers such as money supply and fiscal policy.  At the same time, banks and financial institutions are creating their own private cryptocurrencies to rival public cryptocurrencies like Bitcoin.\n",
      "<class 'bs4.element.Tag'>\n",
      "p\n",
      "{}\n",
      "Blockchain holds promise\n",
      "<class 'bs4.element.Tag'>\n",
      "p\n",
      "{}\n",
      "While Bitcoin’s future is still highly speculative, there is a need to differentiate between Bitcoin and Blockchain, the technology behind Bitcoin.\n",
      "<class 'bs4.element.Tag'>\n",
      "p\n",
      "{}\n",
      "A blockchain is essentially a distributed database of records or public ledger of all transactions that have been executed and shared among participating parties. Each transaction in the public ledger is verified by consensus -- a majority of the participants in the system.\n",
      "<class 'bs4.element.Tag'>\n",
      "p\n",
      "{}\n",
      "None\n",
      "<class 'bs4.element.Tag'>\n",
      "p\n",
      "{}\n",
      "Once entered, each transaction is encrypted and cannot be replicated or altered. Transactions are validated by a network of users called “miners” who donate their computing power in exchange for the chance to gain additional virtual coins using a shared database and distributed processing.\n",
      "<class 'bs4.element.Tag'>\n",
      "p\n",
      "{}\n",
      "Currently the most prevalent blockchain application is the Bitcoin blockchain. This has some characteristics with significant drawbacks.\n",
      "<class 'bs4.element.Tag'>\n",
      "p\n",
      "{'class': ['wp-caption-text']}\n",
      "Blockchain technology has potential benefits across a wide range of industries, such as monitoring the supply chain in agriculture. (HOANG DINH NAM/AFP/Getty Images)\n",
      "<class 'bs4.element.Tag'>\n",
      "p\n",
      "{}\n",
      "The Bitcoin blockchain is anonymous and “permission-less” -- It does not reveal identity or offer privacy. This has led to various reports on the role of Bitcoin in illicit activities.\n",
      "<class 'bs4.element.Tag'>\n",
      "p\n",
      "{}\n",
      "Bitcoin’s cryptography required to achieve consensus slows processing down and currently such an infrastructure could not scale to cope with large transaction volumes.\n",
      "<class 'bs4.element.Tag'>\n",
      "p\n",
      "{}\n",
      "Blockchain technology is promising but still experiencing growing pains. It can evolve into different areas. While nothing else has achieved the same scale as Bitcoin, alternative blockchains offer other benefits, such as increased speed, larger data capacities and different consensus methods.\n",
      "<class 'bs4.element.Tag'>\n",
      "p\n",
      "{}\n",
      "None\n",
      "<class 'bs4.element.Tag'>\n",
      "p\n",
      "{}\n",
      "Blockchain technology is finding application in wide range of areas: Banks can use blockchain to make secure, low-cost and faster transactions. Beyond financial transactions, blockchain technology can be used to put proof of existence of all legal documents, health records, and loyalty payments in the music industry, notary, and private securities.\n",
      "<class 'bs4.element.Tag'>\n",
      "p\n",
      "{}\n",
      "To sum up, there’s a lot of excitement about Bitcoin, but unrealistic expectations that it will become real money.\n",
      "<class 'bs4.element.Tag'>\n",
      "p\n",
      "{}\n",
      "There are similarities with how people in the mid-1990s thought Netscape Navigator, the world’s first commercial Web browser, was synonymous with the Internet and would be the big winner in the new Internet era; its valuation skyrocketed to nearly $3 billion by the close of the first day of its public listing in 1995.\n",
      "<class 'bs4.element.Tag'>\n",
      "p\n",
      "{}\n",
      "Slightly more than a decade later, the plug was pulled on Netscape Navigator by AOL -- development and technical support ceased. Today, it’s little more than a byword for nostalgia.\n",
      "<class 'bs4.element.Tag'>\n",
      "p\n",
      "{}\n",
      "Just like how Netscape is not the same as the Internet, there is a need to differentiate between Bitcoin and Blockchain. See through the bubble around Bitcoin and focus on Blockchain -- this we think is where the promise for the future lies.\n"
     ]
    }
   ],
   "source": [
    "for element in paras:\n",
    "    #print(type(element))\n",
    "    #print(element.name)\n",
    "    #print(element.attrs)\n",
    "    #print(element.string)"
   ]
  },
  {
   "cell_type": "code",
   "execution_count": 7,
   "metadata": {},
   "outputs": [
    {
     "data": {
      "text/plain": [
       "'In less than a decade, bitcoin has gone from being an obscure curiosity to a household name. Its value has risen -- with ups and downs -- from almost nothing to $16,000 at the time of writing.'"
      ]
     },
     "execution_count": 7,
     "metadata": {},
     "output_type": "execute_result"
    }
   ],
   "source": [
    "paras[3].string"
   ]
  },
  {
   "cell_type": "code",
   "execution_count": 8,
   "metadata": {},
   "outputs": [],
   "source": [
    "paras2 = soup.find_all(\"p\",class_ = {})  ### class_ not class"
   ]
  },
  {
   "cell_type": "code",
   "execution_count": 9,
   "metadata": {},
   "outputs": [
    {
     "data": {
      "text/plain": [
       "25"
      ]
     },
     "execution_count": 9,
     "metadata": {},
     "output_type": "execute_result"
    }
   ],
   "source": [
    "len(paras2)"
   ]
  },
  {
   "cell_type": "code",
   "execution_count": 122,
   "metadata": {
    "collapsed": true,
    "jupyter": {
     "outputs_hidden": true
    }
   },
   "outputs": [
    {
     "name": "stdout",
     "output_type": "stream",
     "text": [
      "<class 'bs4.element.Tag'>\n",
      "p\n",
      "{}\n",
      "Bitcoin’s rise is spectacular. Its price is up almost thirtyfold in the past two years. Currently, the value of Bitcoin in circulation is more than US$170 billion, greater than the market capitalization of McDonald’s. This is remarkable because unlike McDonald’s, which has stores in almost every corner of the world, Bitcoin as a virtual currency is hardly even transacted in the real world.\n",
      "<class 'bs4.element.Tag'>\n",
      "p\n",
      "{}\n",
      "Bitcoin is a mirage\n",
      "<class 'bs4.element.Tag'>\n",
      "p\n",
      "{}\n",
      "The rise in Bitcoin’s value reflects speculation about its future value: This digital currency will have long-term value as long as it is accepted as a medium of exchange and a store of value.\n",
      "<class 'bs4.element.Tag'>\n",
      "p\n",
      "{}\n",
      "None\n",
      "<class 'bs4.element.Tag'>\n",
      "p\n",
      "{}\n",
      "\n",
      "\n",
      "<class 'bs4.element.Tag'>\n",
      "p\n",
      "{}\n",
      "By design, there are inherent weaknesses that prevent Bitcoin from becoming real money.\n",
      "<class 'bs4.element.Tag'>\n",
      "p\n",
      "{}\n",
      "For it to be real money, Bitcoin must be a viable and stable store of value. It is a poor store of value because of its extreme volatility. Bitcoin’s price is characterized by wild swings, both up and down, with the potential to move more than 20% in a single day. This volatility is almost by construction because Bitcoin’s supply is relatively fixed but demand can change dramatically.\n",
      "<class 'bs4.element.Tag'>\n",
      "p\n",
      "{}\n",
      "None\n",
      "<class 'bs4.element.Tag'>\n",
      "p\n",
      "{}\n",
      "While the supply of individual cryptocurrencies may be limited, the supply of cryptocurrencies in aggregate is unlimited. They have low barriers to entry. Anyone can create a new cryptocurrency. For example, a digital cryptocurrency, Potcoin, was created to facilitate transactions within the cannabis industry.\n",
      "<class 'bs4.element.Tag'>\n",
      "p\n",
      "{}\n",
      "Bitcoin’s utility as a medium of exchange is still very limited.  While there might be more usage of cryptocurrencies in the future, it is inconceivable for governments to allow the widespread adoption of them.  Governments will want to keep government-backed currencies as they do not want to give up their ability to control policy levers such as money supply and fiscal policy.  At the same time, banks and financial institutions are creating their own private cryptocurrencies to rival public cryptocurrencies like Bitcoin.\n",
      "<class 'bs4.element.Tag'>\n",
      "p\n",
      "{}\n",
      "Blockchain holds promise\n",
      "<class 'bs4.element.Tag'>\n",
      "p\n",
      "{}\n",
      "While Bitcoin’s future is still highly speculative, there is a need to differentiate between Bitcoin and Blockchain, the technology behind Bitcoin.\n",
      "<class 'bs4.element.Tag'>\n",
      "p\n",
      "{}\n",
      "A blockchain is essentially a distributed database of records or public ledger of all transactions that have been executed and shared among participating parties. Each transaction in the public ledger is verified by consensus -- a majority of the participants in the system.\n",
      "<class 'bs4.element.Tag'>\n",
      "p\n",
      "{}\n",
      "None\n",
      "<class 'bs4.element.Tag'>\n",
      "p\n",
      "{}\n",
      "Once entered, each transaction is encrypted and cannot be replicated or altered. Transactions are validated by a network of users called “miners” who donate their computing power in exchange for the chance to gain additional virtual coins using a shared database and distributed processing.\n",
      "<class 'bs4.element.Tag'>\n",
      "p\n",
      "{}\n",
      "Currently the most prevalent blockchain application is the Bitcoin blockchain. This has some characteristics with significant drawbacks.\n",
      "<class 'bs4.element.Tag'>\n",
      "p\n",
      "{}\n",
      "The Bitcoin blockchain is anonymous and “permission-less” -- It does not reveal identity or offer privacy. This has led to various reports on the role of Bitcoin in illicit activities.\n",
      "<class 'bs4.element.Tag'>\n",
      "p\n",
      "{}\n",
      "Bitcoin’s cryptography required to achieve consensus slows processing down and currently such an infrastructure could not scale to cope with large transaction volumes.\n",
      "<class 'bs4.element.Tag'>\n",
      "p\n",
      "{}\n",
      "Blockchain technology is promising but still experiencing growing pains. It can evolve into different areas. While nothing else has achieved the same scale as Bitcoin, alternative blockchains offer other benefits, such as increased speed, larger data capacities and different consensus methods.\n",
      "<class 'bs4.element.Tag'>\n",
      "p\n",
      "{}\n",
      "None\n",
      "<class 'bs4.element.Tag'>\n",
      "p\n",
      "{}\n",
      "Blockchain technology is finding application in wide range of areas: Banks can use blockchain to make secure, low-cost and faster transactions. Beyond financial transactions, blockchain technology can be used to put proof of existence of all legal documents, health records, and loyalty payments in the music industry, notary, and private securities.\n",
      "<class 'bs4.element.Tag'>\n",
      "p\n",
      "{}\n",
      "To sum up, there’s a lot of excitement about Bitcoin, but unrealistic expectations that it will become real money.\n",
      "<class 'bs4.element.Tag'>\n",
      "p\n",
      "{}\n",
      "There are similarities with how people in the mid-1990s thought Netscape Navigator, the world’s first commercial Web browser, was synonymous with the Internet and would be the big winner in the new Internet era; its valuation skyrocketed to nearly $3 billion by the close of the first day of its public listing in 1995.\n",
      "<class 'bs4.element.Tag'>\n",
      "p\n",
      "{}\n",
      "Slightly more than a decade later, the plug was pulled on Netscape Navigator by AOL -- development and technical support ceased. Today, it’s little more than a byword for nostalgia.\n",
      "<class 'bs4.element.Tag'>\n",
      "p\n",
      "{}\n",
      "Just like how Netscape is not the same as the Internet, there is a need to differentiate between Bitcoin and Blockchain. See through the bubble around Bitcoin and focus on Blockchain -- this we think is where the promise for the future lies.\n"
     ]
    }
   ],
   "source": [
    "for element in paras2:\n",
    "    #print(type(element))\n",
    "    #print(element.name)\n",
    "    #print(element.attrs)\n",
    "    #print(element.string)"
   ]
  },
  {
   "cell_type": "code",
   "execution_count": 10,
   "metadata": {},
   "outputs": [
    {
     "data": {
      "text/plain": [
       "['Bitcoin’s rise is spectacular. Its price is up almost thirtyfold in the past two years. Currently, the value of Bitcoin in circulation is more than US$170 billion, greater than the market capitalization of McDonald’s. This is remarkable because unlike McDonald’s, which has stores in almost every corner of the world, Bitcoin as a virtual currency is hardly even transacted in the real world.',\n",
       " 'Bitcoin is a mirage',\n",
       " 'The rise in Bitcoin’s value reflects speculation about its future value: This digital currency will have long-term value as long as it is accepted as a medium of exchange and a store of value.',\n",
       " ' \\n ',\n",
       " 'By design, there are inherent weaknesses that prevent Bitcoin from becoming real money.',\n",
       " 'For it to be real money, Bitcoin must be a viable and stable store of value. It is a poor store of value because of its extreme volatility. Bitcoin’s price is characterized by wild swings, both up and down, with the potential to move more than 20% in a single day. This volatility is almost by construction because Bitcoin’s supply is relatively fixed but demand can change dramatically.',\n",
       " 'While the supply of individual cryptocurrencies may be limited, the supply of cryptocurrencies in aggregate is unlimited. They have low barriers to entry. Anyone can create a new cryptocurrency. For example, a digital cryptocurrency, Potcoin, was created to facilitate transactions within the cannabis industry.',\n",
       " 'Bitcoin’s utility as a medium of exchange is still very limited. \\xa0While there might be more usage of cryptocurrencies in the future, it is inconceivable for governments to allow the widespread adoption of them.\\xa0 Governments will want to keep government-backed currencies as they do not want to give up their ability to control policy levers such as money supply and fiscal policy.\\xa0 At the same time, banks and financial institutions are creating their own private cryptocurrencies to rival public cryptocurrencies like Bitcoin.',\n",
       " 'Blockchain holds promise',\n",
       " 'While Bitcoin’s future is still highly speculative, there is a need to differentiate between Bitcoin and Blockchain, the technology behind Bitcoin.',\n",
       " 'A blockchain is essentially a distributed database of records or public ledger of all transactions that have been executed and shared among participating parties. Each transaction in the public ledger is verified by consensus -- a majority of the participants in the system.',\n",
       " 'Once entered, each transaction is encrypted and cannot be replicated or altered. Transactions are validated by a network of users called “miners” who donate their computing power in exchange for the chance to gain additional virtual coins using a shared database and distributed processing.',\n",
       " 'Currently the most prevalent blockchain application is the Bitcoin blockchain. This has some characteristics with significant drawbacks.',\n",
       " 'The Bitcoin blockchain is anonymous and “permission-less” -- It does not reveal identity or offer privacy. This has led to various reports on the role of Bitcoin in illicit activities.',\n",
       " 'Bitcoin’s cryptography required to achieve consensus slows processing down and currently such an infrastructure could not scale to cope with large transaction volumes.',\n",
       " 'Blockchain technology is promising but still experiencing growing pains. It can evolve into different areas. While nothing else has achieved the same scale as Bitcoin, alternative blockchains offer other benefits, such as increased speed, larger data capacities and different consensus methods.',\n",
       " 'Blockchain technology is finding application in wide range of areas: Banks can use blockchain to make secure, low-cost and faster transactions. Beyond financial transactions, blockchain technology can be used to put proof of existence of all legal documents, health records, and loyalty payments in the music industry, notary, and private securities.',\n",
       " 'To sum up, there’s a lot of excitement about Bitcoin, but unrealistic expectations that it will become real money.',\n",
       " 'There are similarities with how people in the mid-1990s thought Netscape Navigator, the world’s first commercial Web browser, was synonymous with the Internet and would be the big winner in the new Internet era; its valuation skyrocketed to nearly $3 billion by the close of the first day of its public listing in 1995.',\n",
       " 'Slightly more than a decade later, the plug was pulled on Netscape Navigator by AOL -- development and technical support ceased. Today, it’s little more than a byword for nostalgia.',\n",
       " 'Just like how Netscape is not the same as the Internet, there is a need to differentiate between Bitcoin and Blockchain. See through the bubble around Bitcoin and focus on Blockchain -- this we think is where the promise for the future lies.']"
      ]
     },
     "execution_count": 10,
     "metadata": {},
     "output_type": "execute_result"
    }
   ],
   "source": [
    "sentences = [element.string for element in paras2 if element.string not in [None,'\\n']]\n",
    "sentences"
   ]
  },
  {
   "cell_type": "code",
   "execution_count": 11,
   "metadata": {},
   "outputs": [],
   "source": [
    "del(sentences[1])"
   ]
  },
  {
   "cell_type": "code",
   "execution_count": 12,
   "metadata": {},
   "outputs": [],
   "source": [
    "singlepara = ' '.join(sentences)"
   ]
  },
  {
   "cell_type": "code",
   "execution_count": 13,
   "metadata": {},
   "outputs": [
    {
     "data": {
      "text/plain": [
       "'Bitcoin’s rise is spectacular. Its price is up almost thirtyfold in the past two years. Currently, the value of Bitcoin in circulation is more than US$170 billion, greater than the market capitalization of McDonald’s. This is remarkable because unlike McDonald’s, which has stores in almost every corner of the world, Bitcoin as a virtual currency is hardly even transacted in the real world. The rise in Bitcoin’s value reflects speculation about its future value: This digital currency will have long-term value as long as it is accepted as a medium of exchange and a store of value.  \\n  By design, there are inherent weaknesses that prevent Bitcoin from becoming real money. For it to be real money, Bitcoin must be a viable and stable store of value. It is a poor store of value because of its extreme volatility. Bitcoin’s price is characterized by wild swings, both up and down, with the potential to move more than 20% in a single day. This volatility is almost by construction because Bitcoin’s supply is relatively fixed but demand can change dramatically. While the supply of individual cryptocurrencies may be limited, the supply of cryptocurrencies in aggregate is unlimited. They have low barriers to entry. Anyone can create a new cryptocurrency. For example, a digital cryptocurrency, Potcoin, was created to facilitate transactions within the cannabis industry. Bitcoin’s utility as a medium of exchange is still very limited. \\xa0While there might be more usage of cryptocurrencies in the future, it is inconceivable for governments to allow the widespread adoption of them.\\xa0 Governments will want to keep government-backed currencies as they do not want to give up their ability to control policy levers such as money supply and fiscal policy.\\xa0 At the same time, banks and financial institutions are creating their own private cryptocurrencies to rival public cryptocurrencies like Bitcoin. Blockchain holds promise While Bitcoin’s future is still highly speculative, there is a need to differentiate between Bitcoin and Blockchain, the technology behind Bitcoin. A blockchain is essentially a distributed database of records or public ledger of all transactions that have been executed and shared among participating parties. Each transaction in the public ledger is verified by consensus -- a majority of the participants in the system. Once entered, each transaction is encrypted and cannot be replicated or altered. Transactions are validated by a network of users called “miners” who donate their computing power in exchange for the chance to gain additional virtual coins using a shared database and distributed processing. Currently the most prevalent blockchain application is the Bitcoin blockchain. This has some characteristics with significant drawbacks. The Bitcoin blockchain is anonymous and “permission-less” -- It does not reveal identity or offer privacy. This has led to various reports on the role of Bitcoin in illicit activities. Bitcoin’s cryptography required to achieve consensus slows processing down and currently such an infrastructure could not scale to cope with large transaction volumes. Blockchain technology is promising but still experiencing growing pains. It can evolve into different areas. While nothing else has achieved the same scale as Bitcoin, alternative blockchains offer other benefits, such as increased speed, larger data capacities and different consensus methods. Blockchain technology is finding application in wide range of areas: Banks can use blockchain to make secure, low-cost and faster transactions. Beyond financial transactions, blockchain technology can be used to put proof of existence of all legal documents, health records, and loyalty payments in the music industry, notary, and private securities. To sum up, there’s a lot of excitement about Bitcoin, but unrealistic expectations that it will become real money. There are similarities with how people in the mid-1990s thought Netscape Navigator, the world’s first commercial Web browser, was synonymous with the Internet and would be the big winner in the new Internet era; its valuation skyrocketed to nearly $3 billion by the close of the first day of its public listing in 1995. Slightly more than a decade later, the plug was pulled on Netscape Navigator by AOL -- development and technical support ceased. Today, it’s little more than a byword for nostalgia. Just like how Netscape is not the same as the Internet, there is a need to differentiate between Bitcoin and Blockchain. See through the bubble around Bitcoin and focus on Blockchain -- this we think is where the promise for the future lies.'"
      ]
     },
     "execution_count": 13,
     "metadata": {},
     "output_type": "execute_result"
    }
   ],
   "source": [
    "singlepara"
   ]
  },
  {
   "cell_type": "code",
   "execution_count": 14,
   "metadata": {},
   "outputs": [],
   "source": [
    "import nltk"
   ]
  },
  {
   "cell_type": "code",
   "execution_count": 313,
   "metadata": {},
   "outputs": [
    {
     "data": {
      "text/plain": [
       "<Text: Bitcoins rise is spectacular. Its price is up almost thirtyfold in the past two years. Currently, the value of Bitcoin in circulation is more than US$170 billion, greater than the market capitalization of McDonalds. This is remarkable because unlike McDonalds, which has stores in almost every corner of the world, Bitcoin as a virtual currency is hardly even transacted in the real world. The rise in Bitcoins value reflects speculation about its future value: This digital currency will have long-term value as long as it is accepted as a medium of exchange and a store of value. By design, there are inherent weaknesses that prevent Bitcoin from becoming real money. For it to be real money, Bitcoin must be a viable and stable store of value. It is a poor store of value because of its extreme volatility....>"
      ]
     },
     "execution_count": 313,
     "metadata": {},
     "output_type": "execute_result"
    }
   ],
   "source": [
    "#nltk.Text(sentences)"
   ]
  },
  {
   "cell_type": "code",
   "execution_count": 314,
   "metadata": {},
   "outputs": [
    {
     "data": {
      "text/plain": [
       "nltk.text.Text"
      ]
     },
     "execution_count": 314,
     "metadata": {},
     "output_type": "execute_result"
    }
   ],
   "source": [
    "#type(nltk.Text(sentences))"
   ]
  },
  {
   "cell_type": "code",
   "execution_count": 161,
   "metadata": {},
   "outputs": [
    {
     "data": {
      "text/plain": [
       "b'Bitcoin?s rise is spectacular. Its price is up almost thirtyfold in the past two years. Currently, the value of Bitcoin in circulation is more than US$170 billion, greater than the market capitalization of McDonald?s. This is remarkable because unlike McDonald?s, which has stores in almost every corner of the world, Bitcoin as a virtual currency is hardly even transacted in the real world. The rise in Bitcoin?s value reflects speculation about its future value: This digital currency will have long-term value as long as it is accepted as a medium of exchange and a store of value. By design, there are inherent weaknesses that prevent Bitcoin from becoming real money. For it to be real money, Bitcoin must be a viable and stable store of value. It is a poor store of value because of its extreme volatility. Bitcoin?s price is characterized by wild swings, both up and down, with the potential to move more than 20% in a single day. This volatility is almost by construction because Bitcoin?s supply is relatively fixed but demand can change dramatically. While the supply of individual cryptocurrencies may be limited, the supply of cryptocurrencies in aggregate is unlimited. They have low barriers to entry. Anyone can create a new cryptocurrency. For example, a digital cryptocurrency, Potcoin, was created to facilitate transactions within the cannabis industry. Bitcoin?s utility as a medium of exchange is still very limited. ?While there might be more usage of cryptocurrencies in the future, it is inconceivable for governments to allow the widespread adoption of them.? Governments will want to keep government-backed currencies as they do not want to give up their ability to control policy levers such as money supply and fiscal policy.? At the same time, banks and financial institutions are creating their own private cryptocurrencies to rival public cryptocurrencies like Bitcoin. Blockchain holds promise While Bitcoin?s future is still highly speculative, there is a need to differentiate between Bitcoin and Blockchain, the technology behind Bitcoin. A blockchain is essentially a distributed database of records or public ledger of all transactions that have been executed and shared among participating parties. Each transaction in the public ledger is verified by consensus -- a majority of the participants in the system. Once entered, each transaction is encrypted and cannot be replicated or altered. Transactions are validated by a network of users called ?miners? who donate their computing power in exchange for the chance to gain additional virtual coins using a shared database and distributed processing. Currently the most prevalent blockchain application is the Bitcoin blockchain. This has some characteristics with significant drawbacks. The Bitcoin blockchain is anonymous and ?permission-less? -- It does not reveal identity or offer privacy. This has led to various reports on the role of Bitcoin in illicit activities. Bitcoin?s cryptography required to achieve consensus slows processing down and currently such an infrastructure could not scale to cope with large transaction volumes. Blockchain technology is promising but still experiencing growing pains. It can evolve into different areas. While nothing else has achieved the same scale as Bitcoin, alternative blockchains offer other benefits, such as increased speed, larger data capacities and different consensus methods. Blockchain technology is finding application in wide range of areas: Banks can use blockchain to make secure, low-cost and faster transactions. Beyond financial transactions, blockchain technology can be used to put proof of existence of all legal documents, health records, and loyalty payments in the music industry, notary, and private securities. To sum up, there?s a lot of excitement about Bitcoin, but unrealistic expectations that it will become real money. There are similarities with how people in the mid-1990s thought Netscape Navigator, the world?s first commercial Web browser, was synonymous with the Internet and would be the big winner in the new Internet era; its valuation skyrocketed to nearly $3 billion by the close of the first day of its public listing in 1995. Slightly more than a decade later, the plug was pulled on Netscape Navigator by AOL -- development and technical support ceased. Today, it?s little more than a byword for nostalgia. Just like how Netscape is not the same as the Internet, there is a need to differentiate between Bitcoin and Blockchain. See through the bubble around Bitcoin and focus on Blockchain -- this we think is where the promise for the future lies.'"
      ]
     },
     "execution_count": 161,
     "metadata": {},
     "output_type": "execute_result"
    }
   ],
   "source": [
    "#singlepara.encode(\"ascii\",\"replace\")  ## no ascii encoding for quotes"
   ]
  },
  {
   "cell_type": "code",
   "execution_count": 15,
   "metadata": {},
   "outputs": [],
   "source": [
    "finaltext = singlepara.encode(\"ascii\",\"ignore\")"
   ]
  },
  {
   "cell_type": "code",
   "execution_count": 16,
   "metadata": {},
   "outputs": [
    {
     "data": {
      "text/plain": [
       "b'Bitcoins rise is spectacular. Its price is up almost thirtyfold in the past two years. Currently, the value of Bitcoin in circulation is more than US$170 billion, greater than the market capitalization of McDonalds. This is remarkable because unlike McDonalds, which has stores in almost every corner of the world, Bitcoin as a virtual currency is hardly even transacted in the real world. The rise in Bitcoins value reflects speculation about its future value: This digital currency will have long-term value as long as it is accepted as a medium of exchange and a store of value.  \\n  By design, there are inherent weaknesses that prevent Bitcoin from becoming real money. For it to be real money, Bitcoin must be a viable and stable store of value. It is a poor store of value because of its extreme volatility. Bitcoins price is characterized by wild swings, both up and down, with the potential to move more than 20% in a single day. This volatility is almost by construction because Bitcoins supply is relatively fixed but demand can change dramatically. While the supply of individual cryptocurrencies may be limited, the supply of cryptocurrencies in aggregate is unlimited. They have low barriers to entry. Anyone can create a new cryptocurrency. For example, a digital cryptocurrency, Potcoin, was created to facilitate transactions within the cannabis industry. Bitcoins utility as a medium of exchange is still very limited. While there might be more usage of cryptocurrencies in the future, it is inconceivable for governments to allow the widespread adoption of them. Governments will want to keep government-backed currencies as they do not want to give up their ability to control policy levers such as money supply and fiscal policy. At the same time, banks and financial institutions are creating their own private cryptocurrencies to rival public cryptocurrencies like Bitcoin. Blockchain holds promise While Bitcoins future is still highly speculative, there is a need to differentiate between Bitcoin and Blockchain, the technology behind Bitcoin. A blockchain is essentially a distributed database of records or public ledger of all transactions that have been executed and shared among participating parties. Each transaction in the public ledger is verified by consensus -- a majority of the participants in the system. Once entered, each transaction is encrypted and cannot be replicated or altered. Transactions are validated by a network of users called miners who donate their computing power in exchange for the chance to gain additional virtual coins using a shared database and distributed processing. Currently the most prevalent blockchain application is the Bitcoin blockchain. This has some characteristics with significant drawbacks. The Bitcoin blockchain is anonymous and permission-less -- It does not reveal identity or offer privacy. This has led to various reports on the role of Bitcoin in illicit activities. Bitcoins cryptography required to achieve consensus slows processing down and currently such an infrastructure could not scale to cope with large transaction volumes. Blockchain technology is promising but still experiencing growing pains. It can evolve into different areas. While nothing else has achieved the same scale as Bitcoin, alternative blockchains offer other benefits, such as increased speed, larger data capacities and different consensus methods. Blockchain technology is finding application in wide range of areas: Banks can use blockchain to make secure, low-cost and faster transactions. Beyond financial transactions, blockchain technology can be used to put proof of existence of all legal documents, health records, and loyalty payments in the music industry, notary, and private securities. To sum up, theres a lot of excitement about Bitcoin, but unrealistic expectations that it will become real money. There are similarities with how people in the mid-1990s thought Netscape Navigator, the worlds first commercial Web browser, was synonymous with the Internet and would be the big winner in the new Internet era; its valuation skyrocketed to nearly $3 billion by the close of the first day of its public listing in 1995. Slightly more than a decade later, the plug was pulled on Netscape Navigator by AOL -- development and technical support ceased. Today, its little more than a byword for nostalgia. Just like how Netscape is not the same as the Internet, there is a need to differentiate between Bitcoin and Blockchain. See through the bubble around Bitcoin and focus on Blockchain -- this we think is where the promise for the future lies.'"
      ]
     },
     "execution_count": 16,
     "metadata": {},
     "output_type": "execute_result"
    }
   ],
   "source": [
    "finaltext"
   ]
  },
  {
   "cell_type": "code",
   "execution_count": 17,
   "metadata": {},
   "outputs": [
    {
     "data": {
      "text/plain": [
       "'Bitcoins rise is spectacular. Its price is up almost thirtyfold in the past two years. Currently, the value of Bitcoin in circulation is more than US$170 billion, greater than the market capitalization of McDonalds. This is remarkable because unlike McDonalds, which has stores in almost every corner of the world, Bitcoin as a virtual currency is hardly even transacted in the real world. The rise in Bitcoins value reflects speculation about its future value: This digital currency will have long-term value as long as it is accepted as a medium of exchange and a store of value.  \\n  By design, there are inherent weaknesses that prevent Bitcoin from becoming real money. For it to be real money, Bitcoin must be a viable and stable store of value. It is a poor store of value because of its extreme volatility. Bitcoins price is characterized by wild swings, both up and down, with the potential to move more than 20% in a single day. This volatility is almost by construction because Bitcoins supply is relatively fixed but demand can change dramatically. While the supply of individual cryptocurrencies may be limited, the supply of cryptocurrencies in aggregate is unlimited. They have low barriers to entry. Anyone can create a new cryptocurrency. For example, a digital cryptocurrency, Potcoin, was created to facilitate transactions within the cannabis industry. Bitcoins utility as a medium of exchange is still very limited. While there might be more usage of cryptocurrencies in the future, it is inconceivable for governments to allow the widespread adoption of them. Governments will want to keep government-backed currencies as they do not want to give up their ability to control policy levers such as money supply and fiscal policy. At the same time, banks and financial institutions are creating their own private cryptocurrencies to rival public cryptocurrencies like Bitcoin. Blockchain holds promise While Bitcoins future is still highly speculative, there is a need to differentiate between Bitcoin and Blockchain, the technology behind Bitcoin. A blockchain is essentially a distributed database of records or public ledger of all transactions that have been executed and shared among participating parties. Each transaction in the public ledger is verified by consensus -- a majority of the participants in the system. Once entered, each transaction is encrypted and cannot be replicated or altered. Transactions are validated by a network of users called miners who donate their computing power in exchange for the chance to gain additional virtual coins using a shared database and distributed processing. Currently the most prevalent blockchain application is the Bitcoin blockchain. This has some characteristics with significant drawbacks. The Bitcoin blockchain is anonymous and permission-less -- It does not reveal identity or offer privacy. This has led to various reports on the role of Bitcoin in illicit activities. Bitcoins cryptography required to achieve consensus slows processing down and currently such an infrastructure could not scale to cope with large transaction volumes. Blockchain technology is promising but still experiencing growing pains. It can evolve into different areas. While nothing else has achieved the same scale as Bitcoin, alternative blockchains offer other benefits, such as increased speed, larger data capacities and different consensus methods. Blockchain technology is finding application in wide range of areas: Banks can use blockchain to make secure, low-cost and faster transactions. Beyond financial transactions, blockchain technology can be used to put proof of existence of all legal documents, health records, and loyalty payments in the music industry, notary, and private securities. To sum up, theres a lot of excitement about Bitcoin, but unrealistic expectations that it will become real money. There are similarities with how people in the mid-1990s thought Netscape Navigator, the worlds first commercial Web browser, was synonymous with the Internet and would be the big winner in the new Internet era; its valuation skyrocketed to nearly $3 billion by the close of the first day of its public listing in 1995. Slightly more than a decade later, the plug was pulled on Netscape Navigator by AOL -- development and technical support ceased. Today, its little more than a byword for nostalgia. Just like how Netscape is not the same as the Internet, there is a need to differentiate between Bitcoin and Blockchain. See through the bubble around Bitcoin and focus on Blockchain -- this we think is where the promise for the future lies.'"
      ]
     },
     "execution_count": 17,
     "metadata": {},
     "output_type": "execute_result"
    }
   ],
   "source": [
    "finaltext = finaltext.decode(\"utf-8\")  ## Converting Bytes to string\n",
    "finaltext"
   ]
  },
  {
   "cell_type": "code",
   "execution_count": 18,
   "metadata": {},
   "outputs": [],
   "source": [
    "from nltk.tokenize import word_tokenize,sent_tokenize\n",
    "from nltk.corpus import stopwords\n",
    "from string import punctuation"
   ]
  },
  {
   "cell_type": "code",
   "execution_count": 186,
   "metadata": {
    "collapsed": true,
    "jupyter": {
     "outputs_hidden": true
    }
   },
   "outputs": [
    {
     "data": {
      "text/plain": [
       "['i',\n",
       " 'me',\n",
       " 'my',\n",
       " 'myself',\n",
       " 'we',\n",
       " 'our',\n",
       " 'ours',\n",
       " 'ourselves',\n",
       " 'you',\n",
       " \"you're\",\n",
       " \"you've\",\n",
       " \"you'll\",\n",
       " \"you'd\",\n",
       " 'your',\n",
       " 'yours',\n",
       " 'yourself',\n",
       " 'yourselves',\n",
       " 'he',\n",
       " 'him',\n",
       " 'his',\n",
       " 'himself',\n",
       " 'she',\n",
       " \"she's\",\n",
       " 'her',\n",
       " 'hers',\n",
       " 'herself',\n",
       " 'it',\n",
       " \"it's\",\n",
       " 'its',\n",
       " 'itself',\n",
       " 'they',\n",
       " 'them',\n",
       " 'their',\n",
       " 'theirs',\n",
       " 'themselves',\n",
       " 'what',\n",
       " 'which',\n",
       " 'who',\n",
       " 'whom',\n",
       " 'this',\n",
       " 'that',\n",
       " \"that'll\",\n",
       " 'these',\n",
       " 'those',\n",
       " 'am',\n",
       " 'is',\n",
       " 'are',\n",
       " 'was',\n",
       " 'were',\n",
       " 'be',\n",
       " 'been',\n",
       " 'being',\n",
       " 'have',\n",
       " 'has',\n",
       " 'had',\n",
       " 'having',\n",
       " 'do',\n",
       " 'does',\n",
       " 'did',\n",
       " 'doing',\n",
       " 'a',\n",
       " 'an',\n",
       " 'the',\n",
       " 'and',\n",
       " 'but',\n",
       " 'if',\n",
       " 'or',\n",
       " 'because',\n",
       " 'as',\n",
       " 'until',\n",
       " 'while',\n",
       " 'of',\n",
       " 'at',\n",
       " 'by',\n",
       " 'for',\n",
       " 'with',\n",
       " 'about',\n",
       " 'against',\n",
       " 'between',\n",
       " 'into',\n",
       " 'through',\n",
       " 'during',\n",
       " 'before',\n",
       " 'after',\n",
       " 'above',\n",
       " 'below',\n",
       " 'to',\n",
       " 'from',\n",
       " 'up',\n",
       " 'down',\n",
       " 'in',\n",
       " 'out',\n",
       " 'on',\n",
       " 'off',\n",
       " 'over',\n",
       " 'under',\n",
       " 'again',\n",
       " 'further',\n",
       " 'then',\n",
       " 'once',\n",
       " 'here',\n",
       " 'there',\n",
       " 'when',\n",
       " 'where',\n",
       " 'why',\n",
       " 'how',\n",
       " 'all',\n",
       " 'any',\n",
       " 'both',\n",
       " 'each',\n",
       " 'few',\n",
       " 'more',\n",
       " 'most',\n",
       " 'other',\n",
       " 'some',\n",
       " 'such',\n",
       " 'no',\n",
       " 'nor',\n",
       " 'not',\n",
       " 'only',\n",
       " 'own',\n",
       " 'same',\n",
       " 'so',\n",
       " 'than',\n",
       " 'too',\n",
       " 'very',\n",
       " 's',\n",
       " 't',\n",
       " 'can',\n",
       " 'will',\n",
       " 'just',\n",
       " 'don',\n",
       " \"don't\",\n",
       " 'should',\n",
       " \"should've\",\n",
       " 'now',\n",
       " 'd',\n",
       " 'll',\n",
       " 'm',\n",
       " 'o',\n",
       " 're',\n",
       " 've',\n",
       " 'y',\n",
       " 'ain',\n",
       " 'aren',\n",
       " \"aren't\",\n",
       " 'couldn',\n",
       " \"couldn't\",\n",
       " 'didn',\n",
       " \"didn't\",\n",
       " 'doesn',\n",
       " \"doesn't\",\n",
       " 'hadn',\n",
       " \"hadn't\",\n",
       " 'hasn',\n",
       " \"hasn't\",\n",
       " 'haven',\n",
       " \"haven't\",\n",
       " 'isn',\n",
       " \"isn't\",\n",
       " 'ma',\n",
       " 'mightn',\n",
       " \"mightn't\",\n",
       " 'mustn',\n",
       " \"mustn't\",\n",
       " 'needn',\n",
       " \"needn't\",\n",
       " 'shan',\n",
       " \"shan't\",\n",
       " 'shouldn',\n",
       " \"shouldn't\",\n",
       " 'wasn',\n",
       " \"wasn't\",\n",
       " 'weren',\n",
       " \"weren't\",\n",
       " 'won',\n",
       " \"won't\",\n",
       " 'wouldn',\n",
       " \"wouldn't\"]"
      ]
     },
     "execution_count": 186,
     "metadata": {},
     "output_type": "execute_result"
    }
   ],
   "source": [
    "#stopwords.words(\"english\")   ## Returns list of stopwords"
   ]
  },
  {
   "cell_type": "code",
   "execution_count": 19,
   "metadata": {},
   "outputs": [
    {
     "data": {
      "text/plain": [
       "['Bitcoins rise is spectacular.',\n",
       " 'Its price is up almost thirtyfold in the past two years.',\n",
       " 'Currently, the value of Bitcoin in circulation is more than US$170 billion, greater than the market capitalization of McDonalds.',\n",
       " 'This is remarkable because unlike McDonalds, which has stores in almost every corner of the world, Bitcoin as a virtual currency is hardly even transacted in the real world.',\n",
       " 'The rise in Bitcoins value reflects speculation about its future value: This digital currency will have long-term value as long as it is accepted as a medium of exchange and a store of value.',\n",
       " 'By design, there are inherent weaknesses that prevent Bitcoin from becoming real money.',\n",
       " 'For it to be real money, Bitcoin must be a viable and stable store of value.',\n",
       " 'It is a poor store of value because of its extreme volatility.',\n",
       " 'Bitcoins price is characterized by wild swings, both up and down, with the potential to move more than 20% in a single day.',\n",
       " 'This volatility is almost by construction because Bitcoins supply is relatively fixed but demand can change dramatically.',\n",
       " 'While the supply of individual cryptocurrencies may be limited, the supply of cryptocurrencies in aggregate is unlimited.',\n",
       " 'They have low barriers to entry.',\n",
       " 'Anyone can create a new cryptocurrency.',\n",
       " 'For example, a digital cryptocurrency, Potcoin, was created to facilitate transactions within the cannabis industry.',\n",
       " 'Bitcoins utility as a medium of exchange is still very limited.',\n",
       " 'While there might be more usage of cryptocurrencies in the future, it is inconceivable for governments to allow the widespread adoption of them.',\n",
       " 'Governments will want to keep government-backed currencies as they do not want to give up their ability to control policy levers such as money supply and fiscal policy.',\n",
       " 'At the same time, banks and financial institutions are creating their own private cryptocurrencies to rival public cryptocurrencies like Bitcoin.',\n",
       " 'Blockchain holds promise While Bitcoins future is still highly speculative, there is a need to differentiate between Bitcoin and Blockchain, the technology behind Bitcoin.',\n",
       " 'A blockchain is essentially a distributed database of records or public ledger of all transactions that have been executed and shared among participating parties.',\n",
       " 'Each transaction in the public ledger is verified by consensus -- a majority of the participants in the system.',\n",
       " 'Once entered, each transaction is encrypted and cannot be replicated or altered.',\n",
       " 'Transactions are validated by a network of users called miners who donate their computing power in exchange for the chance to gain additional virtual coins using a shared database and distributed processing.',\n",
       " 'Currently the most prevalent blockchain application is the Bitcoin blockchain.',\n",
       " 'This has some characteristics with significant drawbacks.',\n",
       " 'The Bitcoin blockchain is anonymous and permission-less -- It does not reveal identity or offer privacy.',\n",
       " 'This has led to various reports on the role of Bitcoin in illicit activities.',\n",
       " 'Bitcoins cryptography required to achieve consensus slows processing down and currently such an infrastructure could not scale to cope with large transaction volumes.',\n",
       " 'Blockchain technology is promising but still experiencing growing pains.',\n",
       " 'It can evolve into different areas.',\n",
       " 'While nothing else has achieved the same scale as Bitcoin, alternative blockchains offer other benefits, such as increased speed, larger data capacities and different consensus methods.',\n",
       " 'Blockchain technology is finding application in wide range of areas: Banks can use blockchain to make secure, low-cost and faster transactions.',\n",
       " 'Beyond financial transactions, blockchain technology can be used to put proof of existence of all legal documents, health records, and loyalty payments in the music industry, notary, and private securities.',\n",
       " 'To sum up, theres a lot of excitement about Bitcoin, but unrealistic expectations that it will become real money.',\n",
       " 'There are similarities with how people in the mid-1990s thought Netscape Navigator, the worlds first commercial Web browser, was synonymous with the Internet and would be the big winner in the new Internet era; its valuation skyrocketed to nearly $3 billion by the close of the first day of its public listing in 1995.',\n",
       " 'Slightly more than a decade later, the plug was pulled on Netscape Navigator by AOL -- development and technical support ceased.',\n",
       " 'Today, its little more than a byword for nostalgia.',\n",
       " 'Just like how Netscape is not the same as the Internet, there is a need to differentiate between Bitcoin and Blockchain.',\n",
       " 'See through the bubble around Bitcoin and focus on Blockchain -- this we think is where the promise for the future lies.']"
      ]
     },
     "execution_count": 19,
     "metadata": {},
     "output_type": "execute_result"
    }
   ],
   "source": [
    "sentences = sent_tokenize(finaltext)\n",
    "sentences"
   ]
  },
  {
   "cell_type": "code",
   "execution_count": 20,
   "metadata": {},
   "outputs": [],
   "source": [
    "words = word_tokenize(finaltext.lower())\n",
    "#words"
   ]
  },
  {
   "cell_type": "code",
   "execution_count": 21,
   "metadata": {},
   "outputs": [
    {
     "data": {
      "text/plain": [
       "802"
      ]
     },
     "execution_count": 21,
     "metadata": {},
     "output_type": "execute_result"
    }
   ],
   "source": [
    "len(words)"
   ]
  },
  {
   "cell_type": "code",
   "execution_count": 22,
   "metadata": {},
   "outputs": [
    {
     "data": {
      "text/plain": [
       "'!\"#$%&\\'()*+,-./:;<=>?@[\\\\]^_`{|}~'"
      ]
     },
     "execution_count": 22,
     "metadata": {},
     "output_type": "execute_result"
    }
   ],
   "source": [
    "punctuation"
   ]
  },
  {
   "cell_type": "code",
   "execution_count": 23,
   "metadata": {},
   "outputs": [],
   "source": [
    "stop_words = stopwords.words(\"english\") + list(punctuation)   ## Preparing a list of stopwords and punctuations to remove them\n",
    "#stop_words"
   ]
  },
  {
   "cell_type": "code",
   "execution_count": 24,
   "metadata": {
    "collapsed": true,
    "jupyter": {
     "outputs_hidden": true
    }
   },
   "outputs": [
    {
     "data": {
      "text/plain": [
       "['bitcoins',\n",
       " 'rise',\n",
       " 'spectacular',\n",
       " 'price',\n",
       " 'almost',\n",
       " 'thirtyfold',\n",
       " 'past',\n",
       " 'two',\n",
       " 'years',\n",
       " 'currently',\n",
       " 'value',\n",
       " 'bitcoin',\n",
       " 'circulation',\n",
       " 'us',\n",
       " '170',\n",
       " 'billion',\n",
       " 'greater',\n",
       " 'market',\n",
       " 'capitalization',\n",
       " 'mcdonalds',\n",
       " 'remarkable',\n",
       " 'unlike',\n",
       " 'mcdonalds',\n",
       " 'stores',\n",
       " 'almost',\n",
       " 'every',\n",
       " 'corner',\n",
       " 'world',\n",
       " 'bitcoin',\n",
       " 'virtual',\n",
       " 'currency',\n",
       " 'hardly',\n",
       " 'even',\n",
       " 'transacted',\n",
       " 'real',\n",
       " 'world',\n",
       " 'rise',\n",
       " 'bitcoins',\n",
       " 'value',\n",
       " 'reflects',\n",
       " 'speculation',\n",
       " 'future',\n",
       " 'value',\n",
       " 'digital',\n",
       " 'currency',\n",
       " 'long-term',\n",
       " 'value',\n",
       " 'long',\n",
       " 'accepted',\n",
       " 'medium',\n",
       " 'exchange',\n",
       " 'store',\n",
       " 'value',\n",
       " 'design',\n",
       " 'inherent',\n",
       " 'weaknesses',\n",
       " 'prevent',\n",
       " 'bitcoin',\n",
       " 'becoming',\n",
       " 'real',\n",
       " 'money',\n",
       " 'real',\n",
       " 'money',\n",
       " 'bitcoin',\n",
       " 'must',\n",
       " 'viable',\n",
       " 'stable',\n",
       " 'store',\n",
       " 'value',\n",
       " 'poor',\n",
       " 'store',\n",
       " 'value',\n",
       " 'extreme',\n",
       " 'volatility',\n",
       " 'bitcoins',\n",
       " 'price',\n",
       " 'characterized',\n",
       " 'wild',\n",
       " 'swings',\n",
       " 'potential',\n",
       " 'move',\n",
       " '20',\n",
       " 'single',\n",
       " 'day',\n",
       " 'volatility',\n",
       " 'almost',\n",
       " 'construction',\n",
       " 'bitcoins',\n",
       " 'supply',\n",
       " 'relatively',\n",
       " 'fixed',\n",
       " 'demand',\n",
       " 'change',\n",
       " 'dramatically',\n",
       " 'supply',\n",
       " 'individual',\n",
       " 'cryptocurrencies',\n",
       " 'may',\n",
       " 'limited',\n",
       " 'supply',\n",
       " 'cryptocurrencies',\n",
       " 'aggregate',\n",
       " 'unlimited',\n",
       " 'low',\n",
       " 'barriers',\n",
       " 'entry',\n",
       " 'anyone',\n",
       " 'create',\n",
       " 'new',\n",
       " 'cryptocurrency',\n",
       " 'example',\n",
       " 'digital',\n",
       " 'cryptocurrency',\n",
       " 'potcoin',\n",
       " 'created',\n",
       " 'facilitate',\n",
       " 'transactions',\n",
       " 'within',\n",
       " 'cannabis',\n",
       " 'industry',\n",
       " 'bitcoins',\n",
       " 'utility',\n",
       " 'medium',\n",
       " 'exchange',\n",
       " 'still',\n",
       " 'limited',\n",
       " 'might',\n",
       " 'usage',\n",
       " 'cryptocurrencies',\n",
       " 'future',\n",
       " 'inconceivable',\n",
       " 'governments',\n",
       " 'allow',\n",
       " 'widespread',\n",
       " 'adoption',\n",
       " 'governments',\n",
       " 'want',\n",
       " 'keep',\n",
       " 'government-backed',\n",
       " 'currencies',\n",
       " 'want',\n",
       " 'give',\n",
       " 'ability',\n",
       " 'control',\n",
       " 'policy',\n",
       " 'levers',\n",
       " 'money',\n",
       " 'supply',\n",
       " 'fiscal',\n",
       " 'policy',\n",
       " 'time',\n",
       " 'banks',\n",
       " 'financial',\n",
       " 'institutions',\n",
       " 'creating',\n",
       " 'private',\n",
       " 'cryptocurrencies',\n",
       " 'rival',\n",
       " 'public',\n",
       " 'cryptocurrencies',\n",
       " 'like',\n",
       " 'bitcoin',\n",
       " 'blockchain',\n",
       " 'holds',\n",
       " 'promise',\n",
       " 'bitcoins',\n",
       " 'future',\n",
       " 'still',\n",
       " 'highly',\n",
       " 'speculative',\n",
       " 'need',\n",
       " 'differentiate',\n",
       " 'bitcoin',\n",
       " 'blockchain',\n",
       " 'technology',\n",
       " 'behind',\n",
       " 'bitcoin',\n",
       " 'blockchain',\n",
       " 'essentially',\n",
       " 'distributed',\n",
       " 'database',\n",
       " 'records',\n",
       " 'public',\n",
       " 'ledger',\n",
       " 'transactions',\n",
       " 'executed',\n",
       " 'shared',\n",
       " 'among',\n",
       " 'participating',\n",
       " 'parties',\n",
       " 'transaction',\n",
       " 'public',\n",
       " 'ledger',\n",
       " 'verified',\n",
       " 'consensus',\n",
       " '--',\n",
       " 'majority',\n",
       " 'participants',\n",
       " 'system',\n",
       " 'entered',\n",
       " 'transaction',\n",
       " 'encrypted',\n",
       " 'replicated',\n",
       " 'altered',\n",
       " 'transactions',\n",
       " 'validated',\n",
       " 'network',\n",
       " 'users',\n",
       " 'called',\n",
       " 'miners',\n",
       " 'donate',\n",
       " 'computing',\n",
       " 'power',\n",
       " 'exchange',\n",
       " 'chance',\n",
       " 'gain',\n",
       " 'additional',\n",
       " 'virtual',\n",
       " 'coins',\n",
       " 'using',\n",
       " 'shared',\n",
       " 'database',\n",
       " 'distributed',\n",
       " 'processing',\n",
       " 'currently',\n",
       " 'prevalent',\n",
       " 'blockchain',\n",
       " 'application',\n",
       " 'bitcoin',\n",
       " 'blockchain',\n",
       " 'characteristics',\n",
       " 'significant',\n",
       " 'drawbacks',\n",
       " 'bitcoin',\n",
       " 'blockchain',\n",
       " 'anonymous',\n",
       " 'permission-less',\n",
       " '--',\n",
       " 'reveal',\n",
       " 'identity',\n",
       " 'offer',\n",
       " 'privacy',\n",
       " 'led',\n",
       " 'various',\n",
       " 'reports',\n",
       " 'role',\n",
       " 'bitcoin',\n",
       " 'illicit',\n",
       " 'activities',\n",
       " 'bitcoins',\n",
       " 'cryptography',\n",
       " 'required',\n",
       " 'achieve',\n",
       " 'consensus',\n",
       " 'slows',\n",
       " 'processing',\n",
       " 'currently',\n",
       " 'infrastructure',\n",
       " 'could',\n",
       " 'scale',\n",
       " 'cope',\n",
       " 'large',\n",
       " 'transaction',\n",
       " 'volumes',\n",
       " 'blockchain',\n",
       " 'technology',\n",
       " 'promising',\n",
       " 'still',\n",
       " 'experiencing',\n",
       " 'growing',\n",
       " 'pains',\n",
       " 'evolve',\n",
       " 'different',\n",
       " 'areas',\n",
       " 'nothing',\n",
       " 'else',\n",
       " 'achieved',\n",
       " 'scale',\n",
       " 'bitcoin',\n",
       " 'alternative',\n",
       " 'blockchains',\n",
       " 'offer',\n",
       " 'benefits',\n",
       " 'increased',\n",
       " 'speed',\n",
       " 'larger',\n",
       " 'data',\n",
       " 'capacities',\n",
       " 'different',\n",
       " 'consensus',\n",
       " 'methods',\n",
       " 'blockchain',\n",
       " 'technology',\n",
       " 'finding',\n",
       " 'application',\n",
       " 'wide',\n",
       " 'range',\n",
       " 'areas',\n",
       " 'banks',\n",
       " 'use',\n",
       " 'blockchain',\n",
       " 'make',\n",
       " 'secure',\n",
       " 'low-cost',\n",
       " 'faster',\n",
       " 'transactions',\n",
       " 'beyond',\n",
       " 'financial',\n",
       " 'transactions',\n",
       " 'blockchain',\n",
       " 'technology',\n",
       " 'used',\n",
       " 'put',\n",
       " 'proof',\n",
       " 'existence',\n",
       " 'legal',\n",
       " 'documents',\n",
       " 'health',\n",
       " 'records',\n",
       " 'loyalty',\n",
       " 'payments',\n",
       " 'music',\n",
       " 'industry',\n",
       " 'notary',\n",
       " 'private',\n",
       " 'securities',\n",
       " 'sum',\n",
       " 'theres',\n",
       " 'lot',\n",
       " 'excitement',\n",
       " 'bitcoin',\n",
       " 'unrealistic',\n",
       " 'expectations',\n",
       " 'become',\n",
       " 'real',\n",
       " 'money',\n",
       " 'similarities',\n",
       " 'people',\n",
       " 'mid-1990s',\n",
       " 'thought',\n",
       " 'netscape',\n",
       " 'navigator',\n",
       " 'worlds',\n",
       " 'first',\n",
       " 'commercial',\n",
       " 'web',\n",
       " 'browser',\n",
       " 'synonymous',\n",
       " 'internet',\n",
       " 'would',\n",
       " 'big',\n",
       " 'winner',\n",
       " 'new',\n",
       " 'internet',\n",
       " 'era',\n",
       " 'valuation',\n",
       " 'skyrocketed',\n",
       " 'nearly',\n",
       " '3',\n",
       " 'billion',\n",
       " 'close',\n",
       " 'first',\n",
       " 'day',\n",
       " 'public',\n",
       " 'listing',\n",
       " '1995.',\n",
       " 'slightly',\n",
       " 'decade',\n",
       " 'later',\n",
       " 'plug',\n",
       " 'pulled',\n",
       " 'netscape',\n",
       " 'navigator',\n",
       " 'aol',\n",
       " '--',\n",
       " 'development',\n",
       " 'technical',\n",
       " 'support',\n",
       " 'ceased',\n",
       " 'today',\n",
       " 'little',\n",
       " 'byword',\n",
       " 'nostalgia',\n",
       " 'like',\n",
       " 'netscape',\n",
       " 'internet',\n",
       " 'need',\n",
       " 'differentiate',\n",
       " 'bitcoin',\n",
       " 'blockchain',\n",
       " 'see',\n",
       " 'bubble',\n",
       " 'around',\n",
       " 'bitcoin',\n",
       " 'focus',\n",
       " 'blockchain',\n",
       " '--',\n",
       " 'think',\n",
       " 'promise',\n",
       " 'future',\n",
       " 'lies']"
      ]
     },
     "execution_count": 24,
     "metadata": {},
     "output_type": "execute_result"
    }
   ],
   "source": [
    "words_without_stop_punct = [word for word in words if word not in stop_words]      \n",
    "words_without_stop_punct"
   ]
  },
  {
   "cell_type": "code",
   "execution_count": 25,
   "metadata": {},
   "outputs": [
    {
     "data": {
      "text/plain": [
       "401"
      ]
     },
     "execution_count": 25,
     "metadata": {},
     "output_type": "execute_result"
    }
   ],
   "source": [
    "len(words_without_stop_punct)"
   ]
  },
  {
   "cell_type": "code",
   "execution_count": 26,
   "metadata": {},
   "outputs": [],
   "source": [
    "from nltk.stem import WordNetLemmatizer"
   ]
  },
  {
   "cell_type": "code",
   "execution_count": 27,
   "metadata": {},
   "outputs": [],
   "source": [
    "words_lemmatized = [WordNetLemmatizer().lemmatize(word) for word in words_without_stop_punct  ]\n",
    "#words_lemmatized"
   ]
  },
  {
   "cell_type": "code",
   "execution_count": 28,
   "metadata": {},
   "outputs": [
    {
     "data": {
      "text/plain": [
       "'transaction'"
      ]
     },
     "execution_count": 28,
     "metadata": {},
     "output_type": "execute_result"
    }
   ],
   "source": [
    "WordNetLemmatizer().lemmatize(\"transaction\",\"v\") #### Lemmatizer almost giving same words, lets try stemming"
   ]
  },
  {
   "cell_type": "code",
   "execution_count": 29,
   "metadata": {},
   "outputs": [],
   "source": [
    "from nltk.stem.snowball import EnglishStemmer"
   ]
  },
  {
   "cell_type": "code",
   "execution_count": 30,
   "metadata": {},
   "outputs": [
    {
     "data": {
      "text/plain": [
       "'transact'"
      ]
     },
     "execution_count": 30,
     "metadata": {},
     "output_type": "execute_result"
    }
   ],
   "source": [
    "EnglishStemmer().stem(\"transaction\")"
   ]
  },
  {
   "cell_type": "code",
   "execution_count": 31,
   "metadata": {},
   "outputs": [],
   "source": [
    "words_stemmed = [EnglishStemmer().stem(word) for word in words_without_stop_punct  ]\n",
    "#words_stemmed  ## Gives much better results compared to lemmatizing"
   ]
  },
  {
   "cell_type": "code",
   "execution_count": 32,
   "metadata": {},
   "outputs": [],
   "source": [
    "from nltk.probability import FreqDist"
   ]
  },
  {
   "cell_type": "code",
   "execution_count": 33,
   "metadata": {},
   "outputs": [
    {
     "data": {
      "text/plain": [
       "[('bitcoin', 21),\n",
       " ('blockchain', 13),\n",
       " ('transact', 9),\n",
       " ('valu', 7),\n",
       " ('cryptocurr', 7),\n",
       " ('store', 4),\n",
       " ('real', 4),\n",
       " ('futur', 4),\n",
       " ('money', 4),\n",
       " ('suppli', 4)]"
      ]
     },
     "execution_count": 33,
     "metadata": {},
     "output_type": "execute_result"
    }
   ],
   "source": [
    "freq = FreqDist(words_stemmed)     ## Frequency of the words\n",
    "freq.most_common(10)"
   ]
  },
  {
   "cell_type": "code",
   "execution_count": 37,
   "metadata": {},
   "outputs": [
    {
     "data": {
      "image/png": "[encoded data removed]",
      "text/plain": [
       "<Figure size 432x288 with 1 Axes>"
      ]
     },
     "metadata": {
      "needs_background": "light"
     },
     "output_type": "display_data"
    }
   ],
   "source": [
    "freq.plot(10)\n",
    "plt.show()"
   ]
  },
  {
   "cell_type": "code",
   "execution_count": 38,
   "metadata": {},
   "outputs": [],
   "source": [
    "from collections import defaultdict"
   ]
  },
  {
   "cell_type": "code",
   "execution_count": 39,
   "metadata": {},
   "outputs": [
    {
     "data": {
      "text/plain": [
       "defaultdict(int, {})"
      ]
     },
     "execution_count": 39,
     "metadata": {},
     "output_type": "execute_result"
    }
   ],
   "source": [
    "ranking = defaultdict(int)\n",
    "ranking"
   ]
  },
  {
   "cell_type": "code",
   "execution_count": 40,
   "metadata": {},
   "outputs": [
    {
     "data": {
      "text/plain": [
       "[(0, 'Bitcoins rise is spectacular.'),\n",
       " (1, 'Its price is up almost thirtyfold in the past two years.'),\n",
       " (2,\n",
       "  'Currently, the value of Bitcoin in circulation is more than US$170 billion, greater than the market capitalization of McDonalds.'),\n",
       " (3,\n",
       "  'This is remarkable because unlike McDonalds, which has stores in almost every corner of the world, Bitcoin as a virtual currency is hardly even transacted in the real world.'),\n",
       " (4,\n",
       "  'The rise in Bitcoins value reflects speculation about its future value: This digital currency will have long-term value as long as it is accepted as a medium of exchange and a store of value.'),\n",
       " (5,\n",
       "  'By design, there are inherent weaknesses that prevent Bitcoin from becoming real money.'),\n",
       " (6,\n",
       "  'For it to be real money, Bitcoin must be a viable and stable store of value.'),\n",
       " (7, 'It is a poor store of value because of its extreme volatility.'),\n",
       " (8,\n",
       "  'Bitcoins price is characterized by wild swings, both up and down, with the potential to move more than 20% in a single day.'),\n",
       " (9,\n",
       "  'This volatility is almost by construction because Bitcoins supply is relatively fixed but demand can change dramatically.'),\n",
       " (10,\n",
       "  'While the supply of individual cryptocurrencies may be limited, the supply of cryptocurrencies in aggregate is unlimited.'),\n",
       " (11, 'They have low barriers to entry.'),\n",
       " (12, 'Anyone can create a new cryptocurrency.'),\n",
       " (13,\n",
       "  'For example, a digital cryptocurrency, Potcoin, was created to facilitate transactions within the cannabis industry.'),\n",
       " (14, 'Bitcoins utility as a medium of exchange is still very limited.'),\n",
       " (15,\n",
       "  'While there might be more usage of cryptocurrencies in the future, it is inconceivable for governments to allow the widespread adoption of them.'),\n",
       " (16,\n",
       "  'Governments will want to keep government-backed currencies as they do not want to give up their ability to control policy levers such as money supply and fiscal policy.'),\n",
       " (17,\n",
       "  'At the same time, banks and financial institutions are creating their own private cryptocurrencies to rival public cryptocurrencies like Bitcoin.'),\n",
       " (18,\n",
       "  'Blockchain holds promise While Bitcoins future is still highly speculative, there is a need to differentiate between Bitcoin and Blockchain, the technology behind Bitcoin.'),\n",
       " (19,\n",
       "  'A blockchain is essentially a distributed database of records or public ledger of all transactions that have been executed and shared among participating parties.'),\n",
       " (20,\n",
       "  'Each transaction in the public ledger is verified by consensus -- a majority of the participants in the system.'),\n",
       " (21,\n",
       "  'Once entered, each transaction is encrypted and cannot be replicated or altered.'),\n",
       " (22,\n",
       "  'Transactions are validated by a network of users called miners who donate their computing power in exchange for the chance to gain additional virtual coins using a shared database and distributed processing.'),\n",
       " (23,\n",
       "  'Currently the most prevalent blockchain application is the Bitcoin blockchain.'),\n",
       " (24, 'This has some characteristics with significant drawbacks.'),\n",
       " (25,\n",
       "  'The Bitcoin blockchain is anonymous and permission-less -- It does not reveal identity or offer privacy.'),\n",
       " (26,\n",
       "  'This has led to various reports on the role of Bitcoin in illicit activities.'),\n",
       " (27,\n",
       "  'Bitcoins cryptography required to achieve consensus slows processing down and currently such an infrastructure could not scale to cope with large transaction volumes.'),\n",
       " (28,\n",
       "  'Blockchain technology is promising but still experiencing growing pains.'),\n",
       " (29, 'It can evolve into different areas.'),\n",
       " (30,\n",
       "  'While nothing else has achieved the same scale as Bitcoin, alternative blockchains offer other benefits, such as increased speed, larger data capacities and different consensus methods.'),\n",
       " (31,\n",
       "  'Blockchain technology is finding application in wide range of areas: Banks can use blockchain to make secure, low-cost and faster transactions.'),\n",
       " (32,\n",
       "  'Beyond financial transactions, blockchain technology can be used to put proof of existence of all legal documents, health records, and loyalty payments in the music industry, notary, and private securities.'),\n",
       " (33,\n",
       "  'To sum up, theres a lot of excitement about Bitcoin, but unrealistic expectations that it will become real money.'),\n",
       " (34,\n",
       "  'There are similarities with how people in the mid-1990s thought Netscape Navigator, the worlds first commercial Web browser, was synonymous with the Internet and would be the big winner in the new Internet era; its valuation skyrocketed to nearly $3 billion by the close of the first day of its public listing in 1995.'),\n",
       " (35,\n",
       "  'Slightly more than a decade later, the plug was pulled on Netscape Navigator by AOL -- development and technical support ceased.'),\n",
       " (36, 'Today, its little more than a byword for nostalgia.'),\n",
       " (37,\n",
       "  'Just like how Netscape is not the same as the Internet, there is a need to differentiate between Bitcoin and Blockchain.'),\n",
       " (38,\n",
       "  'See through the bubble around Bitcoin and focus on Blockchain -- this we think is where the promise for the future lies.')]"
      ]
     },
     "execution_count": 40,
     "metadata": {},
     "output_type": "execute_result"
    }
   ],
   "source": [
    "list(enumerate(sentences))"
   ]
  },
  {
   "cell_type": "code",
   "execution_count": 41,
   "metadata": {},
   "outputs": [
    {
     "data": {
      "text/plain": [
       "defaultdict(int,\n",
       "            {0: 24,\n",
       "             1: 9,\n",
       "             2: 41,\n",
       "             3: 60,\n",
       "             4: 75,\n",
       "             5: 36,\n",
       "             6: 43,\n",
       "             7: 15,\n",
       "             8: 32,\n",
       "             9: 36,\n",
       "             10: 28,\n",
       "             11: 3,\n",
       "             12: 13,\n",
       "             13: 28,\n",
       "             14: 32,\n",
       "             15: 20,\n",
       "             16: 28,\n",
       "             17: 53,\n",
       "             18: 113,\n",
       "             19: 42,\n",
       "             20: 27,\n",
       "             21: 13,\n",
       "             22: 37,\n",
       "             23: 53,\n",
       "             24: 3,\n",
       "             25: 45,\n",
       "             26: 27,\n",
       "             27: 50,\n",
       "             28: 26,\n",
       "             29: 5,\n",
       "             30: 55,\n",
       "             31: 56,\n",
       "             32: 50,\n",
       "             33: 37,\n",
       "             34: 47,\n",
       "             35: 19,\n",
       "             36: 4,\n",
       "             37: 47,\n",
       "             38: 51})"
      ]
     },
     "execution_count": 41,
     "metadata": {},
     "output_type": "execute_result"
    }
   ],
   "source": [
    "for i,sentence in enumerate(sentences):           ### Check this, words may have to be stemmed\n",
    "    for word in word_tokenize(sentence.lower()):\n",
    "        stemmed_word = EnglishStemmer().stem(word)\n",
    "        if stemmed_word in freq:\n",
    "            #print(stemmed_word)\n",
    "            ranking[i]+=freq[stemmed_word]\n",
    "ranking"
   ]
  },
  {
   "cell_type": "code",
   "execution_count": 283,
   "metadata": {},
   "outputs": [
    {
     "data": {
      "text/plain": [
       "collections.defaultdict"
      ]
     },
     "execution_count": 283,
     "metadata": {},
     "output_type": "execute_result"
    }
   ],
   "source": [
    "type(ranking)"
   ]
  },
  {
   "cell_type": "code",
   "execution_count": 42,
   "metadata": {},
   "outputs": [],
   "source": [
    "import operator\n",
    "from heapq import nlargest"
   ]
  },
  {
   "cell_type": "code",
   "execution_count": 43,
   "metadata": {},
   "outputs": [
    {
     "data": {
      "text/plain": [
       "[18, 4, 3, 31, 30, 17, 23, 38, 27, 32]"
      ]
     },
     "execution_count": 43,
     "metadata": {},
     "output_type": "execute_result"
    }
   ],
   "source": [
    "top_sentences_index = nlargest(10,ranking,key=ranking.get)\n",
    "top_sentences_index"
   ]
  },
  {
   "cell_type": "code",
   "execution_count": 44,
   "metadata": {},
   "outputs": [
    {
     "data": {
      "text/plain": [
       "[3, 4, 17, 18, 23, 27, 30, 31, 32, 38]"
      ]
     },
     "execution_count": 44,
     "metadata": {},
     "output_type": "execute_result"
    }
   ],
   "source": [
    "top_sentences_index_sorted = sorted(top_sentences_index)\n",
    "top_sentences_index_sorted"
   ]
  },
  {
   "cell_type": "code",
   "execution_count": 45,
   "metadata": {},
   "outputs": [
    {
     "data": {
      "text/plain": [
       "['This is remarkable because unlike McDonalds, which has stores in almost every corner of the world, Bitcoin as a virtual currency is hardly even transacted in the real world.',\n",
       " 'The rise in Bitcoins value reflects speculation about its future value: This digital currency will have long-term value as long as it is accepted as a medium of exchange and a store of value.',\n",
       " 'At the same time, banks and financial institutions are creating their own private cryptocurrencies to rival public cryptocurrencies like Bitcoin.',\n",
       " 'Blockchain holds promise While Bitcoins future is still highly speculative, there is a need to differentiate between Bitcoin and Blockchain, the technology behind Bitcoin.',\n",
       " 'Currently the most prevalent blockchain application is the Bitcoin blockchain.',\n",
       " 'Bitcoins cryptography required to achieve consensus slows processing down and currently such an infrastructure could not scale to cope with large transaction volumes.',\n",
       " 'While nothing else has achieved the same scale as Bitcoin, alternative blockchains offer other benefits, such as increased speed, larger data capacities and different consensus methods.',\n",
       " 'Blockchain technology is finding application in wide range of areas: Banks can use blockchain to make secure, low-cost and faster transactions.',\n",
       " 'Beyond financial transactions, blockchain technology can be used to put proof of existence of all legal documents, health records, and loyalty payments in the music industry, notary, and private securities.',\n",
       " 'See through the bubble around Bitcoin and focus on Blockchain -- this we think is where the promise for the future lies.']"
      ]
     },
     "execution_count": 45,
     "metadata": {},
     "output_type": "execute_result"
    }
   ],
   "source": [
    "summary = [ sentences[key] for key in top_sentences_index_sorted]\n",
    "summary"
   ]
  },
  {
   "cell_type": "code",
   "execution_count": 292,
   "metadata": {},
   "outputs": [
    {
     "data": {
      "text/plain": [
       "[(18, 113),\n",
       " (4, 75),\n",
       " (3, 60),\n",
       " (31, 56),\n",
       " (30, 55),\n",
       " (17, 53),\n",
       " (23, 53),\n",
       " (38, 51),\n",
       " (27, 50),\n",
       " (32, 50),\n",
       " (34, 47),\n",
       " (37, 47),\n",
       " (25, 45),\n",
       " (6, 43),\n",
       " (19, 42),\n",
       " (2, 41),\n",
       " (22, 37),\n",
       " (33, 37),\n",
       " (5, 36),\n",
       " (9, 36),\n",
       " (8, 32),\n",
       " (14, 32),\n",
       " (10, 28),\n",
       " (13, 28),\n",
       " (16, 28),\n",
       " (20, 27),\n",
       " (26, 27),\n",
       " (28, 26),\n",
       " (0, 24),\n",
       " (15, 20),\n",
       " (35, 19),\n",
       " (7, 15),\n",
       " (12, 13),\n",
       " (21, 13),\n",
       " (1, 9),\n",
       " (29, 5),\n",
       " (36, 4),\n",
       " (11, 3),\n",
       " (24, 3)]"
      ]
     },
     "execution_count": 292,
     "metadata": {},
     "output_type": "execute_result"
    }
   ],
   "source": [
    "#sorted(ranking.items(),key=operator.itemgetter(1),reverse=True)"
   ]
  }
 ],
 "metadata": {
  "kernelspec": {
   "display_name": "Python 3",
   "language": "python",
   "name": "python3"
  },
  "language_info": {
   "codemirror_mode": {
    "name": "ipython",
    "version": 3
   },
   "file_extension": ".py",
   "mimetype": "text/x-python",
   "name": "python",
   "nbconvert_exporter": "python",
   "pygments_lexer": "ipython3",
   "version": "3.6.4"
  }
 },
 "nbformat": 4,
 "nbformat_minor": 4
}
